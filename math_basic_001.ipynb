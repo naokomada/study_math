{
 "cells": [
  {
   "cell_type": "code",
   "execution_count": 1,
   "metadata": {
    "collapsed": true
   },
   "outputs": [],
   "source": [
    "import sympy as sym\n",
    "sym.init_printing()\n",
    "Pi = sym.S.Pi # 円周率\n",
    "E = sym.S.Exp1 # 自然対数の底\n",
    "I = sym.S.ImaginaryUnit # 虚数単位\n",
    "\n",
    "# 使用する変数の定義(小文字1文字は全てシンボルとする)\n",
    "(a,b,c,d,e,f,g,h,i,j,k,l,m,n,o,p,q,r,s,t,u,v,w,x,y,z) = sym.symbols('a b c d e f g h i j k l m n o p q r s t u v w x y z')\n"
   ]
  },
  {
   "cell_type": "markdown",
   "metadata": {},
   "source": [
    "$$\n",
    "\\frac{\\pi}{2} =\n",
    "  \\left( \\int_{0}^{\\infty} \\frac{\\sin x}{\\sqrt{x}} dx \\right)^2 =\n",
    "  \\sum_{k=0}^{\\infty} \\frac{(2k)!}{2^{2k}(k!)^2} \\frac{1}{2k+1} =\n",
    "  \\prod_{k=1}^{\\infty} \\frac{4k^2}{4k^2 - 1}\n",
    "$$"
   ]
  },
  {
   "cell_type": "markdown",
   "metadata": {},
   "source": [
    "* ラジアンについて\n",
    "\n",
    "円周率\n",
    "$$\n",
    "\\pi = \\frac{円周の長さ}{直径}\n",
    "$$\n",
    "\n",
    "ラジアン\n",
    "180度、360度などで表す角度を、円の半径と弧の長さの比で表す。\n",
    "$$\n",
    "\\frac{弧の長さ}{半径}\n",
    "$$\n",
    "\n",
    "半径が１の単位円で考えると、\n",
    "360度の場合、直径が2なので、円周全体の長さは\n",
    "$$\n",
    "2\\pi\n",
    "$$\n",
    "\n",
    "180度だと\n",
    "$$\n",
    "\\pi\n",
    "$$\n",
    "\n",
    "90度だと\n",
    "$$\n",
    "\\frac{\\pi}{2}\n",
    "$$"
   ]
  },
  {
   "cell_type": "markdown",
   "metadata": {},
   "source": [
    "* 分母が平方根の時\n",
    "\n",
    "分母を有理化する。\n",
    "\n",
    "平方根同士をかけると、\n",
    "$$\n",
    "\\sqrt{2} \\times \\sqrt{2} = 2\n",
    "$$\n",
    "\n",
    "分数は分母と分子の比なので、両方に同じ値をかけても値が変わらない\n",
    "$$\n",
    "\\frac{3}{2} = \\frac{3\\times2}{2\\times2} = \\frac{6}{4}\n",
    "$$\n",
    "\n",
    "なので、分母に同じ数をかけて、分母を平方根でなくす。\n",
    "\n",
    "$$\n",
    "\\frac{1}{\\sqrt{2+1}}\n",
    "\\\\\n",
    "= \\frac{1 \\times \\sqrt{2+1}}{\\sqrt{2+1} \\times \\sqrt{2+1}}\n",
    "\\\\\n",
    "= \\frac{1 \\times \\sqrt{2+1}}{2+1}\n",
    "$$"
   ]
  }
 ],
 "metadata": {
  "kernelspec": {
   "display_name": "Python 3",
   "language": "python",
   "name": "python3"
  },
  "language_info": {
   "codemirror_mode": {
    "name": "ipython",
    "version": 3
   },
   "file_extension": ".py",
   "mimetype": "text/x-python",
   "name": "python",
   "nbconvert_exporter": "python",
   "pygments_lexer": "ipython3",
   "version": "3.5.3"
  }
 },
 "nbformat": 4,
 "nbformat_minor": 2
}
